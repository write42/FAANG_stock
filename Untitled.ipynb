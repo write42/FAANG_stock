{
 "cells": [
  {
   "cell_type": "code",
   "execution_count": 2,
   "id": "148992f5-67ae-4848-b6ce-949ead013c03",
   "metadata": {},
   "outputs": [],
   "source": [
    "#from zipfile import ZipFile"
   ]
  },
  {
   "cell_type": "code",
   "execution_count": 4,
   "id": "61ec54ff-4bb3-492d-bd35-c05d42419583",
   "metadata": {},
   "outputs": [],
   "source": [
    "#file = \"archive(1).zip\""
   ]
  },
  {
   "cell_type": "code",
   "execution_count": 6,
   "id": "15f78e98-90b8-4e6d-a320-b6452572b5e8",
   "metadata": {},
   "outputs": [
    {
     "name": "stdout",
     "output_type": "stream",
     "text": [
      "File Name                                             Modified             Size\n",
      "Amazon.csv                                     2020-09-19 06:14:20       420434\n",
      "Apple.csv                                      2020-09-19 06:14:20       672671\n",
      "Facebook.csv                                   2020-09-19 06:14:20       151344\n",
      "Google.csv                                     2020-09-19 06:14:20       302710\n",
      "Netflix.csv                                    2020-09-19 06:14:20       313958\n"
     ]
    }
   ],
   "source": [
    "#with ZipFile(file,'r') as zip:\n",
    "#    zip.printdir()\n",
    "#    zip.extractall()"
   ]
  },
  {
   "cell_type": "code",
   "execution_count": 1,
   "id": "baf3d5ab-55cf-44a7-b21a-35c757db5747",
   "metadata": {},
   "outputs": [],
   "source": [
    "import pandas as pd\n",
    "amazon_data = pd.read_csv('Amazon.csv')\n",
    "apple_data = pd.read_csv('Apple.csv')\n",
    "facebook_data = pd.read_csv('Facebook.csv')\n",
    "google_data = pd.read_csv('Google.csv')\n",
    "netflix_data = pd.read_csv('Netflix.csv')"
   ]
  },
  {
   "cell_type": "code",
   "execution_count": null,
   "id": "d2067479-607c-469a-9672-51785807c72a",
   "metadata": {},
   "outputs": [],
   "source": []
  }
 ],
 "metadata": {
  "kernelspec": {
   "display_name": "Python 3 (ipykernel)",
   "language": "python",
   "name": "python3"
  },
  "language_info": {
   "codemirror_mode": {
    "name": "ipython",
    "version": 3
   },
   "file_extension": ".py",
   "mimetype": "text/x-python",
   "name": "python",
   "nbconvert_exporter": "python",
   "pygments_lexer": "ipython3",
   "version": "3.9.12"
  }
 },
 "nbformat": 4,
 "nbformat_minor": 5
}
